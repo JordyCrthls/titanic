{
 "cells": [
  {
   "cell_type": "code",
   "execution_count": 1,
   "id": "initial_id",
   "metadata": {
    "collapsed": true,
    "ExecuteTime": {
     "end_time": "2024-01-20T12:27:56.728648100Z",
     "start_time": "2024-01-20T12:27:56.332870900Z"
    }
   },
   "outputs": [],
   "source": [
    "import numpy as np\n",
    "import pandas as pd\n",
    "import matplotlib.pyplot as plt\n",
    "import seaborn as sns\n",
    "\n",
    "from sklearn.model_selection import train_test_split\n",
    "from sklearn.linear_model import LinearRegression\n",
    "\n",
    "data = pd.read_csv(\"Titanic-Dataset.csv\")"
   ]
  },
  {
   "cell_type": "markdown",
   "source": [
    "# instapct te data"
   ],
   "metadata": {
    "collapsed": false
   },
   "id": "c44f84b81bca8926"
  },
  {
   "cell_type": "code",
   "outputs": [
    {
     "data": {
      "text/plain": "   PassengerId  Survived  Pclass  \\\n0            1         0       3   \n1            2         1       1   \n2            3         1       3   \n3            4         1       1   \n4            5         0       3   \n\n                                                Name     Sex   Age  SibSp  \\\n0                            Braund, Mr. Owen Harris    male  22.0      1   \n1  Cumings, Mrs. John Bradley (Florence Briggs Th...  female  38.0      1   \n2                             Heikkinen, Miss. Laina  female  26.0      0   \n3       Futrelle, Mrs. Jacques Heath (Lily May Peel)  female  35.0      1   \n4                           Allen, Mr. William Henry    male  35.0      0   \n\n   Parch            Ticket     Fare Cabin Embarked  \n0      0         A/5 21171   7.2500   NaN        S  \n1      0          PC 17599  71.2833   C85        C  \n2      0  STON/O2. 3101282   7.9250   NaN        S  \n3      0            113803  53.1000  C123        S  \n4      0            373450   8.0500   NaN        S  ",
      "text/html": "<div>\n<style scoped>\n    .dataframe tbody tr th:only-of-type {\n        vertical-align: middle;\n    }\n\n    .dataframe tbody tr th {\n        vertical-align: top;\n    }\n\n    .dataframe thead th {\n        text-align: right;\n    }\n</style>\n<table border=\"1\" class=\"dataframe\">\n  <thead>\n    <tr style=\"text-align: right;\">\n      <th></th>\n      <th>PassengerId</th>\n      <th>Survived</th>\n      <th>Pclass</th>\n      <th>Name</th>\n      <th>Sex</th>\n      <th>Age</th>\n      <th>SibSp</th>\n      <th>Parch</th>\n      <th>Ticket</th>\n      <th>Fare</th>\n      <th>Cabin</th>\n      <th>Embarked</th>\n    </tr>\n  </thead>\n  <tbody>\n    <tr>\n      <th>0</th>\n      <td>1</td>\n      <td>0</td>\n      <td>3</td>\n      <td>Braund, Mr. Owen Harris</td>\n      <td>male</td>\n      <td>22.0</td>\n      <td>1</td>\n      <td>0</td>\n      <td>A/5 21171</td>\n      <td>7.2500</td>\n      <td>NaN</td>\n      <td>S</td>\n    </tr>\n    <tr>\n      <th>1</th>\n      <td>2</td>\n      <td>1</td>\n      <td>1</td>\n      <td>Cumings, Mrs. John Bradley (Florence Briggs Th...</td>\n      <td>female</td>\n      <td>38.0</td>\n      <td>1</td>\n      <td>0</td>\n      <td>PC 17599</td>\n      <td>71.2833</td>\n      <td>C85</td>\n      <td>C</td>\n    </tr>\n    <tr>\n      <th>2</th>\n      <td>3</td>\n      <td>1</td>\n      <td>3</td>\n      <td>Heikkinen, Miss. Laina</td>\n      <td>female</td>\n      <td>26.0</td>\n      <td>0</td>\n      <td>0</td>\n      <td>STON/O2. 3101282</td>\n      <td>7.9250</td>\n      <td>NaN</td>\n      <td>S</td>\n    </tr>\n    <tr>\n      <th>3</th>\n      <td>4</td>\n      <td>1</td>\n      <td>1</td>\n      <td>Futrelle, Mrs. Jacques Heath (Lily May Peel)</td>\n      <td>female</td>\n      <td>35.0</td>\n      <td>1</td>\n      <td>0</td>\n      <td>113803</td>\n      <td>53.1000</td>\n      <td>C123</td>\n      <td>S</td>\n    </tr>\n    <tr>\n      <th>4</th>\n      <td>5</td>\n      <td>0</td>\n      <td>3</td>\n      <td>Allen, Mr. William Henry</td>\n      <td>male</td>\n      <td>35.0</td>\n      <td>0</td>\n      <td>0</td>\n      <td>373450</td>\n      <td>8.0500</td>\n      <td>NaN</td>\n      <td>S</td>\n    </tr>\n  </tbody>\n</table>\n</div>"
     },
     "execution_count": 2,
     "metadata": {},
     "output_type": "execute_result"
    }
   ],
   "source": [
    "data.head()"
   ],
   "metadata": {
    "collapsed": false,
    "ExecuteTime": {
     "end_time": "2024-01-20T12:27:56.766267200Z",
     "start_time": "2024-01-20T12:27:56.728648100Z"
    }
   },
   "id": "cc54a8608d54bb60",
   "execution_count": 2
  },
  {
   "cell_type": "markdown",
   "source": [
    "# Amount of rows and columns"
   ],
   "metadata": {
    "collapsed": false
   },
   "id": "ef293ddd136b9c1c"
  },
  {
   "cell_type": "code",
   "outputs": [
    {
     "name": "stdout",
     "output_type": "stream",
     "text": [
      "Total rows: 891, Total columns: 12\n"
     ]
    }
   ],
   "source": [
    "print(f'Total rows: {data.shape[0]}, Total columns: {data.shape[1]}')"
   ],
   "metadata": {
    "collapsed": false,
    "ExecuteTime": {
     "end_time": "2024-01-20T12:27:56.770913300Z",
     "start_time": "2024-01-20T12:27:56.766267200Z"
    }
   },
   "id": "8e4bf6814d1451be",
   "execution_count": 3
  },
  {
   "cell_type": "markdown",
   "source": [
    "# Column overview"
   ],
   "metadata": {
    "collapsed": false
   },
   "id": "59946af743551499"
  },
  {
   "cell_type": "code",
   "outputs": [
    {
     "name": "stdout",
     "output_type": "stream",
     "text": [
      "<class 'pandas.core.frame.DataFrame'>\n",
      "RangeIndex: 891 entries, 0 to 890\n",
      "Data columns (total 12 columns):\n",
      " #   Column       Non-Null Count  Dtype  \n",
      "---  ------       --------------  -----  \n",
      " 0   PassengerId  891 non-null    int64  \n",
      " 1   Survived     891 non-null    int64  \n",
      " 2   Pclass       891 non-null    int64  \n",
      " 3   Name         891 non-null    object \n",
      " 4   Sex          891 non-null    object \n",
      " 5   Age          714 non-null    float64\n",
      " 6   SibSp        891 non-null    int64  \n",
      " 7   Parch        891 non-null    int64  \n",
      " 8   Ticket       891 non-null    object \n",
      " 9   Fare         891 non-null    float64\n",
      " 10  Cabin        204 non-null    object \n",
      " 11  Embarked     889 non-null    object \n",
      "dtypes: float64(2), int64(5), object(5)\n",
      "memory usage: 83.7+ KB\n"
     ]
    }
   ],
   "source": [
    "data.info()"
   ],
   "metadata": {
    "collapsed": false,
    "ExecuteTime": {
     "end_time": "2024-01-20T12:27:56.778130900Z",
     "start_time": "2024-01-20T12:27:56.769916800Z"
    }
   },
   "id": "8963bcd486cd83d8",
   "execution_count": 4
  },
  {
   "cell_type": "markdown",
   "source": [
    "# Amount of empty value's in the dataset"
   ],
   "metadata": {
    "collapsed": false
   },
   "id": "85d70889ce720d70"
  },
  {
   "cell_type": "code",
   "outputs": [
    {
     "data": {
      "text/plain": "Cabin          687\nAge            177\nEmbarked         2\nPassengerId      0\nSurvived         0\nPclass           0\nName             0\nSex              0\nSibSp            0\nParch            0\nTicket           0\nFare             0\ndtype: int64"
     },
     "execution_count": 5,
     "metadata": {},
     "output_type": "execute_result"
    }
   ],
   "source": [
    "data.isna().sum().sort_values(ascending=False)"
   ],
   "metadata": {
    "collapsed": false,
    "ExecuteTime": {
     "end_time": "2024-01-20T12:27:56.783113200Z",
     "start_time": "2024-01-20T12:27:56.777134Z"
    }
   },
   "id": "44e0d9fc0bbc895a",
   "execution_count": 5
  },
  {
   "cell_type": "markdown",
   "source": [
    "# Histogram of the age"
   ],
   "metadata": {
    "collapsed": false
   },
   "id": "ad1db6deb1740185"
  },
  {
   "cell_type": "code",
   "outputs": [
    {
     "data": {
      "text/plain": "<Figure size 640x480 with 1 Axes>",
      "image/png": "[encoded data removed]"
     },
     "metadata": {},
     "output_type": "display_data"
    }
   ],
   "source": [
    "plt.hist(data['Age'].dropna(), bins=30, edgecolor='black')\n",
    "\n",
    "plt.title('Age Distribution')\n",
    "plt.xlabel('Age')\n",
    "plt.ylabel('Frequency')\n",
    "plt.show()"
   ],
   "metadata": {
    "collapsed": false,
    "ExecuteTime": {
     "end_time": "2024-01-20T12:27:56.990759Z",
     "start_time": "2024-01-20T12:27:56.780615Z"
    }
   },
   "id": "6393c8a9894ed5d2",
   "execution_count": 6
  },
  {
   "cell_type": "markdown",
   "source": [
    "# Correlation between data + encode data to numerical"
   ],
   "metadata": {
    "collapsed": false
   },
   "id": "41a5365e2a094167"
  },
  {
   "cell_type": "code",
   "outputs": [],
   "source": [
    "def factorize_columns(data, columns_to_factorize):\n",
    "    encoded_mappings = {}\n",
    "\n",
    "    for column in columns_to_factorize:\n",
    "        codes, unique_values = pd.factorize(data[column])\n",
    "        data[column] = codes\n",
    "        encoded_mappings[column] = {column: unique_values}\n",
    "\n",
    "    return data, encoded_mappings"
   ],
   "metadata": {
    "collapsed": false,
    "ExecuteTime": {
     "end_time": "2024-01-20T12:27:56.991755700Z",
     "start_time": "2024-01-20T12:27:56.985775600Z"
    }
   },
   "id": "8420bb8743ae3aae",
   "execution_count": 7
  },
  {
   "cell_type": "code",
   "outputs": [
    {
     "data": {
      "text/plain": "<Figure size 900x600 with 1 Axes>",
      "image/png": "[encoded data removed]"
     },
     "metadata": {},
     "output_type": "display_data"
    }
   ],
   "source": [
    "factorized, x = factorize_columns(data, data.columns.tolist())\n",
    "\n",
    "corr = factorized.corr()\n",
    "\n",
    "# Get correlations with 'Survived', and drop the 'Survived' correlation itself\n",
    "correlation_with_survived = corr['Survived'].drop('Survived').sort_values(ascending=False)\n",
    "\n",
    "plt.figure(figsize=(9,6))\n",
    "sns.barplot(x = correlation_with_survived.index, y = correlation_with_survived.values)\n",
    "plt.title('Correlation with Survived')\n",
    "plt.xlabel('Features')\n",
    "plt.ylabel('Correlation coefficient')\n",
    "plt.xticks(rotation=90)\n",
    "plt.show()"
   ],
   "metadata": {
    "collapsed": false,
    "ExecuteTime": {
     "end_time": "2024-01-20T12:27:57.139936300Z",
     "start_time": "2024-01-20T12:27:56.985775600Z"
    }
   },
   "id": "61f8f42b48a61c3d",
   "execution_count": 8
  },
  {
   "cell_type": "markdown",
   "source": [
    "In the correlation graph is there a strong correlation between the survival rate and the Sex, an a minor but noticeable correlation with the Pclass."
   ],
   "metadata": {
    "collapsed": false
   },
   "id": "91818639e89a223"
  },
  {
   "cell_type": "code",
   "outputs": [],
   "source": [
    "data.drop(['Name', 'PassengerId', 'Cabin'], axis=1, inplace=True)"
   ],
   "metadata": {
    "collapsed": false,
    "ExecuteTime": {
     "end_time": "2024-01-20T12:27:57.143271200Z",
     "start_time": "2024-01-20T12:27:57.140270400Z"
    }
   },
   "id": "9fca4cfa9011c96f",
   "execution_count": 9
  },
  {
   "cell_type": "markdown",
   "source": [
    "# handle missing data"
   ],
   "metadata": {
    "collapsed": false
   },
   "id": "4020cd7718dbdd1a"
  },
  {
   "cell_type": "code",
   "outputs": [],
   "source": [
    "\n",
    "def replace_undefined_with_mode(data, column_name):\n",
    "    if column_name in data.columns:\n",
    "        mode_value = data[column_name].mode()[0]  # Get the mode (most frequent value)\n",
    "        # Replace \"NaN\" values with the mode\n",
    "        data[column_name] = data[column_name].replace(np.nan, mode_value)\n",
    "    else:\n",
    "        print(f\"The column '{column_name}' does not exist in the DataFrame.\")\n",
    "    return data"
   ],
   "metadata": {
    "collapsed": false,
    "ExecuteTime": {
     "end_time": "2024-01-20T12:27:57.162907900Z",
     "start_time": "2024-01-20T12:27:57.143271200Z"
    }
   },
   "id": "2f08454c3f44c7e9",
   "execution_count": 10
  },
  {
   "cell_type": "code",
   "outputs": [],
   "source": [
    "data, mappings = factorize_columns(data, data.columns)\n",
    "for col in data.columns:\n",
    "    data = replace_undefined_with_mode(data, col)\n",
    "    "
   ],
   "metadata": {
    "collapsed": false,
    "ExecuteTime": {
     "end_time": "2024-01-20T12:27:57.163915200Z",
     "start_time": "2024-01-20T12:27:57.151680Z"
    }
   },
   "id": "99b0c20df301326f",
   "execution_count": 11
  },
  {
   "cell_type": "code",
   "outputs": [
    {
     "data": {
      "text/plain": "Survived    0\nPclass      0\nSex         0\nAge         0\nSibSp       0\nParch       0\nTicket      0\nFare        0\nEmbarked    0\ndtype: int64"
     },
     "execution_count": 12,
     "metadata": {},
     "output_type": "execute_result"
    }
   ],
   "source": [
    "data.isna().sum().sort_values(ascending=False)"
   ],
   "metadata": {
    "collapsed": false,
    "ExecuteTime": {
     "end_time": "2024-01-20T12:27:57.213012300Z",
     "start_time": "2024-01-20T12:27:57.156193500Z"
    }
   },
   "id": "a2f918408f3a838f",
   "execution_count": 12
  },
  {
   "cell_type": "code",
   "outputs": [],
   "source": [
    "labels = data['Survived']\n",
    "dataframe = data.drop(['Survived'], axis=1)\n",
    "train_data, test_data, train_labels, test_labels = train_test_split(dataframe, labels, test_size=0.2, random_state=1)"
   ],
   "metadata": {
    "collapsed": false,
    "ExecuteTime": {
     "end_time": "2024-01-20T12:27:57.213514500Z",
     "start_time": "2024-01-20T12:27:57.159547600Z"
    }
   },
   "id": "7b6771011dba5d71",
   "execution_count": 13
  },
  {
   "cell_type": "markdown",
   "source": [
    "# cleaning and normalizing"
   ],
   "metadata": {
    "collapsed": false
   },
   "id": "60df95e49f2de30"
  },
  {
   "cell_type": "code",
   "outputs": [
    {
     "data": {
      "text/plain": "Survived    0\nPclass      0\nSex         0\nAge         0\nEmbarked    0\ndtype: int64"
     },
     "execution_count": 14,
     "metadata": {},
     "output_type": "execute_result"
    }
   ],
   "source": [
    "\n",
    "data.drop(['Parch', 'SibSp', 'Ticket', 'Fare'], axis=1, inplace=True)\n",
    "\n",
    "data, mappings = factorize_columns(data, data.columns)\n",
    "for col in data.columns:\n",
    "    data = replace_undefined_with_mode(data, col)\n",
    "    \n",
    "data.isna().sum().sort_values(ascending=False)\n",
    "    "
   ],
   "metadata": {
    "collapsed": false,
    "ExecuteTime": {
     "end_time": "2024-01-20T12:27:57.216509300Z",
     "start_time": "2024-01-20T12:27:57.163915200Z"
    }
   },
   "id": "47dd719b07783c08",
   "execution_count": 14
  },
  {
   "cell_type": "code",
   "outputs": [],
   "source": [
    "def lenear_regression(df):\n",
    "    # df = data.drop(['Parch', 'SibSp', 'Ticket', 'Fare'], axis=1)\n",
    "    \n",
    "    y = df[['Survived']]\n",
    "    X = df.drop(['Survived'],axis=1)\n",
    "    \n",
    "    \n",
    "    Xtrain, Xrest, ytrain, yrest = train_test_split(X, y, test_size=0.5)\n",
    "    \n",
    "    lr = LinearRegression()\n",
    "    lr.fit(Xtrain, ytrain)\n",
    "\n",
    "    return lr"
   ],
   "metadata": {
    "collapsed": false,
    "ExecuteTime": {
     "end_time": "2024-01-20T12:27:57.216509300Z",
     "start_time": "2024-01-20T12:27:57.169546100Z"
    }
   },
   "id": "1c037b5faf87f6e4",
   "execution_count": 15
  },
  {
   "cell_type": "code",
   "outputs": [],
   "source": [
    "from tensorflow.keras import layers\n",
    "import keras\n",
    "\n",
    "def deep_model(data_deep_model, num_epochs=50):\n",
    "    labels = data_deep_model['Survived']\n",
    "    dataframe = data_deep_model.drop(['Survived'], axis=1)\n",
    "    train_data, test_data, train_labels, test_labels = train_test_split(dataframe, labels, test_size=0.2, random_state=1)\n",
    "    input = layers.Input(shape=(4, 1, 1))\n",
    "    layer_build = layers.Flatten()(input)\n",
    "    layer_build = layers.Dense(57, activation='relu')(layer_build)\n",
    "    layer_build = layers.Dense(57, activation='relu')(layer_build)\n",
    "    output = layers.Dense(1, activation='sigmoid')(layer_build)\n",
    "    model = keras.Model(inputs=input, outputs=output)\n",
    "    model.compile(optimizer='adam', loss='binary_crossentropy')\n",
    "    model.fit(train_data, train_labels, epochs=num_epochs)\n",
    "    model.summary()\n",
    "    \n",
    "    return model"
   ],
   "metadata": {
    "collapsed": false,
    "ExecuteTime": {
     "end_time": "2024-01-20T12:27:58.521102600Z",
     "start_time": "2024-01-20T12:27:57.172047100Z"
    }
   },
   "id": "575d5f5b7f460874",
   "execution_count": 16
  },
  {
   "cell_type": "code",
   "outputs": [
    {
     "name": "stdout",
     "output_type": "stream",
     "text": [
      "Epoch 1/50\n",
      "23/23 [==============================] - 0s 793us/step - loss: 0.6716\n",
      "Epoch 2/50\n",
      "23/23 [==============================] - 0s 659us/step - loss: 0.6398\n",
      "Epoch 3/50\n",
      "23/23 [==============================] - 0s 615us/step - loss: 0.6210\n",
      "Epoch 4/50\n",
      "23/23 [==============================] - 0s 604us/step - loss: 0.5977\n",
      "Epoch 5/50\n",
      "23/23 [==============================] - 0s 586us/step - loss: 0.5765\n",
      "Epoch 6/50\n",
      "23/23 [==============================] - 0s 537us/step - loss: 0.5332\n",
      "Epoch 7/50\n",
      "23/23 [==============================] - 0s 567us/step - loss: 0.5254\n",
      "Epoch 8/50\n",
      "23/23 [==============================] - 0s 521us/step - loss: 0.5072\n",
      "Epoch 9/50\n",
      "23/23 [==============================] - 0s 544us/step - loss: 0.4946\n",
      "Epoch 10/50\n",
      "23/23 [==============================] - 0s 567us/step - loss: 0.4863\n",
      "Epoch 11/50\n",
      "23/23 [==============================] - 0s 590us/step - loss: 0.4979\n",
      "Epoch 12/50\n",
      "23/23 [==============================] - 0s 567us/step - loss: 0.5050\n",
      "Epoch 13/50\n",
      "23/23 [==============================] - 0s 588us/step - loss: 0.4628\n",
      "Epoch 14/50\n",
      "23/23 [==============================] - 0s 548us/step - loss: 0.4964\n",
      "Epoch 15/50\n",
      "23/23 [==============================] - 0s 500us/step - loss: 0.4602\n",
      "Epoch 16/50\n",
      "23/23 [==============================] - 0s 590us/step - loss: 0.4592\n",
      "Epoch 17/50\n",
      "23/23 [==============================] - 0s 547us/step - loss: 0.4733\n",
      "Epoch 18/50\n",
      "23/23 [==============================] - 0s 547us/step - loss: 0.4537\n",
      "Epoch 19/50\n",
      "23/23 [==============================] - 0s 545us/step - loss: 0.4566\n",
      "Epoch 20/50\n",
      "23/23 [==============================] - 0s 567us/step - loss: 0.4606\n",
      "Epoch 21/50\n",
      "23/23 [==============================] - 0s 522us/step - loss: 0.5104\n",
      "Epoch 22/50\n",
      "23/23 [==============================] - 0s 544us/step - loss: 0.4922\n",
      "Epoch 23/50\n",
      "23/23 [==============================] - 0s 508us/step - loss: 0.4614\n",
      "Epoch 24/50\n",
      "23/23 [==============================] - 0s 580us/step - loss: 0.4772\n",
      "Epoch 25/50\n",
      "23/23 [==============================] - 0s 555us/step - loss: 0.4507\n",
      "Epoch 26/50\n",
      "23/23 [==============================] - 0s 591us/step - loss: 0.4499\n",
      "Epoch 27/50\n",
      "23/23 [==============================] - 0s 545us/step - loss: 0.4466\n",
      "Epoch 28/50\n",
      "23/23 [==============================] - 0s 566us/step - loss: 0.4464\n",
      "Epoch 29/50\n",
      "23/23 [==============================] - 0s 626us/step - loss: 0.4361\n",
      "Epoch 30/50\n",
      "23/23 [==============================] - 0s 568us/step - loss: 0.4295\n",
      "Epoch 31/50\n",
      "23/23 [==============================] - 0s 544us/step - loss: 0.4497\n",
      "Epoch 32/50\n",
      "23/23 [==============================] - 0s 507us/step - loss: 0.4403\n",
      "Epoch 33/50\n",
      "23/23 [==============================] - 0s 595us/step - loss: 0.4324\n",
      "Epoch 34/50\n",
      "23/23 [==============================] - 0s 567us/step - loss: 0.4343\n",
      "Epoch 35/50\n",
      "23/23 [==============================] - 0s 522us/step - loss: 0.4340\n",
      "Epoch 36/50\n",
      "23/23 [==============================] - 0s 567us/step - loss: 0.4307\n",
      "Epoch 37/50\n",
      "23/23 [==============================] - 0s 539us/step - loss: 0.4367\n",
      "Epoch 38/50\n",
      "23/23 [==============================] - 0s 557us/step - loss: 0.4455\n",
      "Epoch 39/50\n",
      "23/23 [==============================] - 0s 544us/step - loss: 0.4460\n",
      "Epoch 40/50\n",
      "23/23 [==============================] - 0s 536us/step - loss: 0.4274\n",
      "Epoch 41/50\n",
      "23/23 [==============================] - 0s 592us/step - loss: 0.4334\n",
      "Epoch 42/50\n",
      "23/23 [==============================] - 0s 595us/step - loss: 0.4241\n",
      "Epoch 43/50\n",
      "23/23 [==============================] - 0s 547us/step - loss: 0.4381\n",
      "Epoch 44/50\n",
      "23/23 [==============================] - 0s 594us/step - loss: 0.4531\n",
      "Epoch 45/50\n",
      "23/23 [==============================] - 0s 487us/step - loss: 0.4382\n",
      "Epoch 46/50\n",
      "23/23 [==============================] - 0s 599us/step - loss: 0.4243\n",
      "Epoch 47/50\n",
      "23/23 [==============================] - 0s 579us/step - loss: 0.4364\n",
      "Epoch 48/50\n",
      "23/23 [==============================] - 0s 521us/step - loss: 0.4374\n",
      "Epoch 49/50\n",
      "23/23 [==============================] - 0s 569us/step - loss: 0.4642\n",
      "Epoch 50/50\n",
      "23/23 [==============================] - 0s 573us/step - loss: 0.4418\n",
      "Model: \"model\"\n",
      "_________________________________________________________________\n",
      " Layer (type)                Output Shape              Param #   \n",
      "=================================================================\n",
      " input_1 (InputLayer)        [(None, 4, 1, 1)]         0         \n",
      "                                                                 \n",
      " flatten (Flatten)           (None, 4)                 0         \n",
      "                                                                 \n",
      " dense (Dense)               (None, 57)                285       \n",
      "                                                                 \n",
      " dense_1 (Dense)             (None, 57)                3306      \n",
      "                                                                 \n",
      " dense_2 (Dense)             (None, 1)                 58        \n",
      "                                                                 \n",
      "=================================================================\n",
      "Total params: 3649 (14.25 KB)\n",
      "Trainable params: 3649 (14.25 KB)\n",
      "Non-trainable params: 0 (0.00 Byte)\n",
      "_________________________________________________________________\n",
      "6/6 [==============================] - 0s 598us/step\n",
      "NN Accuracy: 0.7597765363128491\n",
      "NN Recall: 0.5068493150684932\n",
      "NN Precision: 0.8409090909090909\n",
      "NN Confusion Matrix: \n",
      "[[99  7]\n",
      " [36 37]]\n"
     ]
    }
   ],
   "source": [
    "from sklearn.metrics import accuracy_score, recall_score, precision_score, confusion_matrix\n",
    "\n",
    "model = deep_model(data)\n",
    "\n",
    "test_data = test_data.drop(['Parch', 'SibSp', 'Ticket', 'Fare'], axis=1)\n",
    "    \n",
    "# Predict the results using the test dataset\n",
    "predictions = model.predict(test_data)\n",
    "\n",
    "# Round the predictions to get the final output classes\n",
    "rounded_predictions = [round(x[0]) for x in predictions]\n",
    "\n",
    "# Calculate Accuracy\n",
    "accuracy = accuracy_score(test_labels, rounded_predictions)\n",
    "print(f'NN Accuracy: {accuracy}')\n",
    "\n",
    "# Calculate Recall\n",
    "recall = recall_score(test_labels, rounded_predictions)\n",
    "print(f'NN Recall: {recall}')\n",
    "\n",
    "# Calculate Precision\n",
    "precision = precision_score(test_labels, rounded_predictions)\n",
    "print(f'NN Precision: {precision}')\n",
    "\n",
    "# Confusion Matrix\n",
    "conf_matrix = confusion_matrix(test_labels, rounded_predictions)\n",
    "print(f'NN Confusion Matrix: \\n{conf_matrix}')"
   ],
   "metadata": {
    "collapsed": false,
    "ExecuteTime": {
     "end_time": "2024-01-20T12:27:59.719572100Z",
     "start_time": "2024-01-20T12:27:58.522099500Z"
    }
   },
   "id": "8bcb90b09c74f438",
   "execution_count": 17
  },
  {
   "cell_type": "markdown",
   "source": [
    "True Positives (TP): Your model correctly predicted 39 survivors.\n",
    "True Negatives (TN): Your model correctly predicted 98 non-survivors.\n",
    "False Positives (FP): Your model incorrectly predicted 8 survivors.\n",
    "False Negatives (FN): Your model incorrectly predicted 34 non-survivors."
   ],
   "metadata": {
    "collapsed": false
   },
   "id": "442ccb4c11250eef"
  },
  {
   "cell_type": "markdown",
   "source": [],
   "metadata": {
    "collapsed": false
   },
   "id": "8ab4e5db27798367"
  },
  {
   "cell_type": "code",
   "outputs": [
    {
     "name": "stdout",
     "output_type": "stream",
     "text": [
      "LR Accuracy: 0.776536312849162\n",
      "LR Recall: 0.6712328767123288\n",
      "LR Precision: 0.7538461538461538\n",
      "LR Confusion Matrix: \n",
      "[[90 16]\n",
      " [24 49]]\n"
     ]
    }
   ],
   "source": [
    "from sklearn.metrics import accuracy_score, recall_score, precision_score, confusion_matrix\n",
    "\n",
    "model = lenear_regression(data)\n",
    "\n",
    "# Predict the results using the test dataset\n",
    "predictions = model.predict(test_data)\n",
    "\n",
    "# Round the predictions to get the final output classes\n",
    "rounded_predictions = [round(x[0]) for x in predictions]\n",
    "\n",
    "# Calculate Accuracy\n",
    "accuracy = accuracy_score(test_labels, rounded_predictions)\n",
    "print(f'LR Accuracy: {accuracy}')\n",
    "\n",
    "# Calculate Recall\n",
    "recall = recall_score(test_labels, rounded_predictions)\n",
    "print(f'LR Recall: {recall}')\n",
    "\n",
    "# Calculate Precision\n",
    "precision = precision_score(test_labels, rounded_predictions)\n",
    "print(f'LR Precision: {precision}')\n",
    "\n",
    "# Confusion Matrix\n",
    "conf_matrix = confusion_matrix(test_labels, rounded_predictions)\n",
    "print(f'LR Confusion Matrix: \\n{conf_matrix}')"
   ],
   "metadata": {
    "collapsed": false,
    "ExecuteTime": {
     "end_time": "2024-01-20T12:27:59.727740Z",
     "start_time": "2024-01-20T12:27:59.717578800Z"
    }
   },
   "id": "1fb7458183f786a7",
   "execution_count": 18
  },
  {
   "cell_type": "markdown",
   "source": [
    "True Positives (TP): Your model correctly predicted 49 survivors.\n",
    "True Negatives (TN): Your model correctly predicted 90 non-survivors.\n",
    "False Positives (FP): Your model incorrectly predicted 16 survivors.\n",
    "False Negatives (FN): Your model incorrectly predicted 24 non-survivors."
   ],
   "metadata": {
    "collapsed": false
   },
   "id": "420f95e840adbd86"
  },
  {
   "cell_type": "markdown",
   "source": [
    "# Conclusion"
   ],
   "metadata": {
    "collapsed": false
   },
   "id": "a0546a89de6e6b97"
  },
  {
   "cell_type": "markdown",
   "source": [
    "Accuracy: The linear regression has a higher accuracy (77.7%) compared to the NN (76.5%).\n",
    "\n",
    "Recall: The linear regression has a significantly higher recall score (67.1%) compared to the previous model (53.4%). This means it is more able to correctly identify survivors.\n",
    "\n",
    "Precision: The NN has a higher precision (82.9%) compared to the linear regression (75.4%). This means the NN, when predicting a passenger survived, is right more often.\n",
    "\n",
    "Confusion Matrix: The linear regression has more true positives (49 vs 39) and true negatives (90 vs 98), but also more false positives (16 vs 8). NN has fewer false negatives (24 vs 34), which is good."
   ],
   "metadata": {
    "collapsed": false
   },
   "id": "5cf9c2bc78dda77c"
  },
  {
   "cell_type": "markdown",
   "source": [
    "In conclusion, considering all metrics, the LR model generally shows a better performance."
   ],
   "metadata": {
    "collapsed": false
   },
   "id": "a603a48ee3a33f80"
  }
 ],
 "metadata": {
  "kernelspec": {
   "display_name": "Python 3",
   "language": "python",
   "name": "python3"
  },
  "language_info": {
   "codemirror_mode": {
    "name": "ipython",
    "version": 2
   },
   "file_extension": ".py",
   "mimetype": "text/x-python",
   "name": "python",
   "nbconvert_exporter": "python",
   "pygments_lexer": "ipython2",
   "version": "2.7.6"
  }
 },
 "nbformat": 4,
 "nbformat_minor": 5
}
